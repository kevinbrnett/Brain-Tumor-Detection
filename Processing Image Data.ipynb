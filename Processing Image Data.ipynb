{
 "cells": [
  {
   "cell_type": "markdown",
   "id": "5b487f48",
   "metadata": {},
   "source": [
    "- [ ] imports\n",
    "- [ ] locate and upload images\n",
    "- [ ] size the images\n",
    "- [ ] make sure greyscale\n",
    "- [ ] convert to np array\n",
    "- [ ] display each image class"
   ]
  },
  {
   "cell_type": "markdown",
   "id": "578e203a",
   "metadata": {},
   "source": [
    "# Imports"
   ]
  },
  {
   "cell_type": "code",
   "execution_count": 8,
   "id": "6568c674",
   "metadata": {},
   "outputs": [],
   "source": [
    "import numpy as np\n",
    "import pandas as pd\n",
    "import matplotlib.pyplot as plt\n",
    "import matplotlib.image as mpimg\n",
    "import os\n",
    "from os import listdir\n",
    "from os import makedirs"
   ]
  },
  {
   "cell_type": "markdown",
   "id": "7b4fefaf",
   "metadata": {},
   "source": [
    "# Functions"
   ]
  },
  {
   "cell_type": "code",
   "execution_count": 24,
   "id": "06c55528",
   "metadata": {},
   "outputs": [],
   "source": [
    "# Function for processing images and saving to new directory\n",
    "def process_img(img_path, save_dir):\n",
    "    # Read image and resize\n",
    "    img = mpimg.read(img_path)\n",
    "    size = (200,200)\n",
    "    sized_img = img.resize(size)\n",
    "    \n",
    "    # Make sure image is converted to grayscale\n",
    "    grayscale_img = sized_img.convert('L')\n",
    "    \n",
    "    # Convert image to np array\n",
    "    img_array = np.array(grayscale_img)\n",
    "    \n",
    "    # Convert np array back to an image\n",
    "    processed_img = Image.fromarray(img_array)\n",
    "    \n",
    "    # Generate image name and new save path\n",
    "    img_name = os.path.basename(img_path)\n",
    "    save_path = os.path.join(save_dir, img_name)\n",
    "    \n",
    "    # Save image as JPEG\n",
    "    processed_img.save(save_dir,'JPEG')\n",
    "    \n",
    "    # Return processed image\n",
    "    return processed_img"
   ]
  },
  {
   "cell_type": "markdown",
   "id": "4b0793cc",
   "metadata": {},
   "source": [
    "# Load Images"
   ]
  },
  {
   "cell_type": "code",
   "execution_count": 25,
   "id": "2f2e27b9",
   "metadata": {},
   "outputs": [],
   "source": [
    "# Directories to get train and test images\n",
    "train_dir = 'C:\\\\Users\\\\hamma\\\\Documents\\\\GitHub\\\\Brain-Tumor-Detection\\\\Data\\\\Raw-Images\\\\Training'\n",
    "test_dir = 'C:\\\\Users\\\\hamma\\\\Documents\\\\GitHub\\\\Brain-Tumor-Detection\\\\Data\\\\Raw-Images\\\\Testing'"
   ]
  },
  {
   "cell_type": "code",
   "execution_count": 26,
   "id": "87c328aa",
   "metadata": {},
   "outputs": [],
   "source": [
    "# New folders to save processed images\n",
    "train_path = 'C:\\\\Users\\\\hamma\\\\Documents\\\\GitHub\\\\Brain-Tumor-Detection\\\\Data\\\\Processed-Images\\\\Training'\n",
    "test_path = 'C:\\\\Users\\\\hamma\\\\Documents\\\\GitHub\\\\Brain-Tumor-Detection\\\\Data\\\\Processed-Images\\\\Testing'\n",
    "os.makedirs(train_path, exist_ok=True)\n",
    "os.makedirs(test_path, exist_ok=True)"
   ]
  },
  {
   "cell_type": "code",
   "execution_count": 27,
   "id": "d483cace",
   "metadata": {},
   "outputs": [],
   "source": [
    "# Directories to save processed images\n",
    "save_dir_train = 'C:\\\\Users\\\\hamma\\\\Documents\\\\GitHub\\\\Brain-Tumor-Detection\\\\Data\\\\Processed-Images\\\\Training'\n",
    "save_dir_test = 'C:\\\\Users\\\\hamma\\\\Documents\\\\GitHub\\\\Brain-Tumor-Detection\\\\Data\\\\Processed-Images\\\\Testing'"
   ]
  },
  {
   "cell_type": "code",
   "execution_count": null,
   "id": "8bd2be99",
   "metadata": {},
   "outputs": [],
   "source": [
    "# List of tumor types\n",
    "tumor_types = [\"glioma_tumor\", \"meningioma_tumor\", \"no_tumor\", \"pituitary_tumor\"]\n",
    "\n",
    "# Process and display image for each tumor type\n",
    "for i, tumor_type in enumerate(tumor_types)"
   ]
  }
 ],
 "metadata": {
  "kernelspec": {
   "display_name": "Python (dojo-env)",
   "language": "python",
   "name": "dojo-env"
  },
  "language_info": {
   "codemirror_mode": {
    "name": "ipython",
    "version": 3
   },
   "file_extension": ".py",
   "mimetype": "text/x-python",
   "name": "python",
   "nbconvert_exporter": "python",
   "pygments_lexer": "ipython3",
   "version": "3.9.15"
  },
  "toc": {
   "base_numbering": 1,
   "nav_menu": {},
   "number_sections": false,
   "sideBar": true,
   "skip_h1_title": false,
   "title_cell": "Table of Contents",
   "title_sidebar": "Contents",
   "toc_cell": false,
   "toc_position": {},
   "toc_section_display": true,
   "toc_window_display": false
  }
 },
 "nbformat": 4,
 "nbformat_minor": 5
}
